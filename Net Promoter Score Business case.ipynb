{
 "cells": [
  {
   "cell_type": "markdown",
   "id": "08b3e459",
   "metadata": {},
   "source": [
    "## Net Promoter Score- NPS Biz case\n"
   ]
  },
  {
   "cell_type": "markdown",
   "id": "d6b023e0",
   "metadata": {},
   "source": [
    "**`The Net Promoter Score` is the leading customer satisfaction metric that measures customer satisfaction in terms of loyalty.** \n",
    "\n",
    " \n",
    "\n",
    "**It ranges from -100 to 100 and measures the willingness of customers to recommend a company, it’s products or services to others. NPS can be measured based on one simple question: “How likely would you be to recommend our products/services to a friend?” Customers range their willingness of recommendation on the scale of 0-10. Based on their responses, customers will be segregated into three categories.**  \n",
    "\n",
    "- Promoters – 9-10 Score : are typically loyal and enthusiastic customers. They are most likely to be ‘brand ambassadors’ by sharing positive online reviews, getting engaged on social media and recommending the product or service with their friends.   \n",
    "\n",
    "- Detractors – 0-6 Score : are unhappy customers who are unlikely to buy from you again, and may even discourage others from buying from you. Their loyalty to the brand is so low, that it’s likely they may end the relationship soon, posing the greatest risk of ‘churn’.   \n",
    "\n",
    "- Passives – 7-8 Score : are satisfied with your service but not happy enough to be considered promoters. \n",
    "\n",
    "**NPS can be conducted, calculated, and managed by the NPS Software.**   \n",
    "\n",
    "**Formula to calculate NPS:  \n",
    "`Net Promoter Score (NPS) = % Promoters – % Detractors`**"
   ]
  },
  {
   "cell_type": "markdown",
   "id": "5ec81e5f",
   "metadata": {},
   "source": [
    "We will use **np.loadtxt** to load the dataset it is in\"txt\" form. But generally we will use pd.read_csv of Pandas to load the file."
   ]
  },
  {
   "cell_type": "code",
   "execution_count": 2,
   "id": "18320157",
   "metadata": {},
   "outputs": [],
   "source": [
    "import numpy as np"
   ]
  },
  {
   "cell_type": "code",
   "execution_count": 3,
   "id": "324072d1",
   "metadata": {},
   "outputs": [
    {
     "data": {
      "text/plain": [
       "array([ 7., 10.,  5., ...,  5.,  9., 10.])"
      ]
     },
     "execution_count": 3,
     "metadata": {},
     "output_type": "execute_result"
    }
   ],
   "source": [
    "data = np.loadtxt(\"/Users/aparnabiswas/Downloads/Python_libraries-Jupyter/Numpy/NPS_Biz_case_class2/survey.txt\") \n",
    "data\n",
    "#storing this inside data"
   ]
  },
  {
   "cell_type": "markdown",
   "id": "d8429c1a",
   "metadata": {},
   "source": [
    "Formula of NPS:\n",
    "%promoters - %detractors"
   ]
  },
  {
   "cell_type": "code",
   "execution_count": 4,
   "id": "6a3216d0",
   "metadata": {},
   "outputs": [
    {
     "data": {
      "text/plain": [
       "1167"
      ]
     },
     "execution_count": 4,
     "metadata": {},
     "output_type": "execute_result"
    }
   ],
   "source": [
    "len(data)"
   ]
  },
  {
   "cell_type": "markdown",
   "id": "a3fc7868",
   "metadata": {},
   "source": [
    "**to find total number of feedbacks. Since this is 1D, we can just use  \n",
    "\"len\" command\n",
    "Shape[0]\n",
    "size**\n"
   ]
  },
  {
   "cell_type": "code",
   "execution_count": 5,
   "id": "530050c1",
   "metadata": {},
   "outputs": [
    {
     "data": {
      "text/plain": [
       "1167"
      ]
     },
     "execution_count": 5,
     "metadata": {},
     "output_type": "execute_result"
    }
   ],
   "source": [
    "data.shape[0]"
   ]
  },
  {
   "cell_type": "code",
   "execution_count": 6,
   "id": "561296bc",
   "metadata": {},
   "outputs": [
    {
     "data": {
      "text/plain": [
       "1167"
      ]
     },
     "execution_count": 6,
     "metadata": {},
     "output_type": "execute_result"
    }
   ],
   "source": [
    "total=data.size\n",
    "total"
   ]
  },
  {
   "cell_type": "code",
   "execution_count": 7,
   "id": "74c80522",
   "metadata": {},
   "outputs": [
    {
     "data": {
      "text/plain": [
       "array([5., 4., 4., 5., 1., 5., 5., 1., 4., 5., 4., 4., 4., 5., 1., 4., 1.,\n",
       "       4., 1., 5., 5., 1., 1., 4., 1., 5., 4., 1., 1., 4., 1., 5., 1., 4.,\n",
       "       4., 1., 1., 1., 1., 1., 1., 1., 4., 1., 1., 5., 5., 5., 4., 4., 1.,\n",
       "       4., 1., 4., 1., 5., 1., 1., 5., 4., 4., 4., 4., 1., 4., 5., 4., 4.,\n",
       "       1., 1., 5., 5., 1., 5., 1., 5., 5., 4., 5., 4., 1., 1., 1., 1., 4.,\n",
       "       1., 4., 4., 5., 4., 1., 1., 1., 1., 5., 4., 5., 5., 4., 1., 5., 1.,\n",
       "       4., 4., 1., 1., 1., 4., 4., 5., 5., 4., 5., 5., 5., 1., 4., 1., 5.,\n",
       "       5., 1., 5., 1., 1., 5., 5., 4., 4., 1., 4., 4., 4., 1., 1., 4., 4.,\n",
       "       4., 5., 5., 1., 1., 4., 1., 4., 1., 4., 1., 4., 1., 4., 1., 5., 4.,\n",
       "       4., 5., 1., 4., 5., 5., 5., 1., 5., 4., 1., 1., 5., 5., 5., 4., 5.,\n",
       "       4., 4., 1., 4., 4., 4., 4., 5., 1., 5., 5., 1., 4., 4., 5., 1., 1.,\n",
       "       4., 5., 5., 5., 1., 4., 5., 5., 4., 1., 5., 5., 5., 1., 1., 5., 5.,\n",
       "       1., 1., 1., 4., 5., 5., 4., 4., 4., 5., 1., 4., 1., 4., 5., 4., 5.,\n",
       "       5., 1., 5., 1., 5., 5., 1., 4., 5., 5., 4., 1., 5., 1., 4., 1., 4.,\n",
       "       1., 1., 1., 1., 1., 1., 4., 1., 5., 4., 5., 1., 5., 1., 5., 4., 4.,\n",
       "       4., 4., 5., 5., 1., 4., 1., 5., 5., 1., 4., 1., 1., 4., 4., 4., 4.,\n",
       "       1., 4., 1., 1., 4., 1., 5., 4., 1., 1., 5., 4., 5., 4., 4., 4., 1.,\n",
       "       5., 5., 1., 4., 5., 4., 4., 4., 1., 4., 1., 4., 4., 4., 5., 1., 1.,\n",
       "       1., 4., 5., 5., 1., 5., 4., 5., 5., 4., 1., 1., 5., 5., 5., 1., 4.,\n",
       "       5., 4., 5., 5., 5., 1., 4., 1., 5.])"
      ]
     },
     "execution_count": 7,
     "metadata": {},
     "output_type": "execute_result"
    }
   ],
   "source": [
    "#detractors\n",
    "data[data<7]"
   ]
  },
  {
   "cell_type": "code",
   "execution_count": 8,
   "id": "62cc4868",
   "metadata": {},
   "outputs": [
    {
     "data": {
      "text/plain": [
       "332"
      ]
     },
     "execution_count": 8,
     "metadata": {},
     "output_type": "execute_result"
    }
   ],
   "source": [
    "#to find how many detractors\n",
    "\n",
    "detractors = data[data<7].shape[0]\n",
    "detractors"
   ]
  },
  {
   "cell_type": "code",
   "execution_count": 9,
   "id": "b94f2002",
   "metadata": {},
   "outputs": [
    {
     "data": {
      "text/plain": [
       "609"
      ]
     },
     "execution_count": 9,
     "metadata": {},
     "output_type": "execute_result"
    }
   ],
   "source": [
    "#promoters\n",
    "\n",
    "promoters = data[data>=9].shape[0]\n",
    "promoters"
   ]
  },
  {
   "cell_type": "code",
   "execution_count": 10,
   "id": "2452f6a5",
   "metadata": {},
   "outputs": [
    {
     "data": {
      "text/plain": [
       "226"
      ]
     },
     "execution_count": 10,
     "metadata": {},
     "output_type": "execute_result"
    }
   ],
   "source": [
    "#passives\n",
    "\n",
    "passives = data[(data==7)|(data==8)].shape[0]\n",
    "passives"
   ]
  },
  {
   "cell_type": "code",
   "execution_count": 11,
   "id": "5b479c11",
   "metadata": {},
   "outputs": [
    {
     "data": {
      "text/plain": [
       "0.5218508997429306"
      ]
     },
     "execution_count": 11,
     "metadata": {},
     "output_type": "execute_result"
    }
   ],
   "source": [
    "perc_promoters = promoters/total\n",
    "perc_promoters"
   ]
  },
  {
   "cell_type": "code",
   "execution_count": 12,
   "id": "fd7482b0",
   "metadata": {},
   "outputs": [
    {
     "data": {
      "text/plain": [
       "0.28449014567266495"
      ]
     },
     "execution_count": 12,
     "metadata": {},
     "output_type": "execute_result"
    }
   ],
   "source": [
    "perc_detractors = detractors/total\n",
    "perc_detractors"
   ]
  },
  {
   "cell_type": "code",
   "execution_count": 13,
   "id": "edf04842",
   "metadata": {},
   "outputs": [
    {
     "data": {
      "text/plain": [
       "23.73607540702657"
      ]
     },
     "execution_count": 13,
     "metadata": {},
     "output_type": "execute_result"
    }
   ],
   "source": [
    "NPS = (perc_promoters-perc_detractors)*100\n",
    "NPS"
   ]
  },
  {
   "cell_type": "markdown",
   "id": "1b2e0585",
   "metadata": {},
   "source": [
    "**`So Here we see our NPS score for this dataset is 23.73%`**"
   ]
  },
  {
   "cell_type": "markdown",
   "id": "7c8087ea",
   "metadata": {},
   "source": [
    "Insights:\n",
    "- In SaaS, a score between 1-30 is acceptable, a score between 30-50 is solid, and a score of 50+ is excellent. So, with a positive NPS Score of `~23 our score is Favourable/Acceptable`.\n",
    "\n",
    "- To take stock, identify areas of poor performance, and take actions that create and improve those experiences. by Combining it with other driver questions to make sure you can understand the ‘why’ reasons behind the recommendation result. A simple text box entry field with the question ‘why did you enter the score above?’ can support this qualitative research.\n",
    "\n",
    "- When new CX initiatives are produced and tested, make sure the organization uses targeted listening posts to make sure that the investment into the CX improvements has created successful results.\n",
    "\n",
    "- This culture of action won’t happen overnight. But by creating a culture centered around continuous, meaningful actions, we can see the NPS score rise."
   ]
  },
  {
   "cell_type": "code",
   "execution_count": null,
   "id": "82243980",
   "metadata": {},
   "outputs": [],
   "source": []
  }
 ],
 "metadata": {
  "kernelspec": {
   "display_name": "Python 3 (ipykernel)",
   "language": "python",
   "name": "python3"
  },
  "language_info": {
   "codemirror_mode": {
    "name": "ipython",
    "version": 3
   },
   "file_extension": ".py",
   "mimetype": "text/x-python",
   "name": "python",
   "nbconvert_exporter": "python",
   "pygments_lexer": "ipython3",
   "version": "3.11.3"
  }
 },
 "nbformat": 4,
 "nbformat_minor": 5
}
